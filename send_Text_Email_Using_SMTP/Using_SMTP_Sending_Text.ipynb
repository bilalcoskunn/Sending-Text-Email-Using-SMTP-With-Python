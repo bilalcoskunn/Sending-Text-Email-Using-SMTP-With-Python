{
 "cells": [
  {
   "cell_type": "code",
   "execution_count": 1,
   "metadata": {},
   "outputs": [],
   "source": [
    "from smtplib import SMTP"
   ]
  },
  {
   "cell_type": "code",
   "execution_count": 4,
   "metadata": {},
   "outputs": [
    {
     "name": "stdout",
     "output_type": "stream",
     "text": [
      "Mail gönderme işlemi başarılı!\n"
     ]
    }
   ],
   "source": [
    "try:\n",
    "    #mail bilgisi\n",
    "    subject=\"Test\"\n",
    "    message=\"Bu bir test mesajıdır\"\n",
    "    content=\"Subject: {0}\\n\\n{1}\".format(subject,message)\n",
    "    \n",
    "    #hesap bilgileri\n",
    "    myMailAddress = \"...\" #email of user\n",
    "    password = \"...\" #password of user's email account\n",
    "    \n",
    "    #Kime gönderileceğinin bilgisi\n",
    "    sendTo = \"...\" #the email receiving the mail\n",
    "    \n",
    "    mail = SMTP(\"smtp.gmail.com\",587)\n",
    "    mail.ehlo() #mail sunucusuna bağlantı isteği için\n",
    "    mail.starttls() #verileri sunucuya şifreli bir şekilde göndermek için\n",
    "    mail.login(myMailAddress, password) #mail sunucusunda oturum açmak için\n",
    "    mail.sendmail(myMailAddress,sendTo,content.encode(\"utf-8\"))\n",
    "    print(\"Mail gönderme işlemi başarılı!\")\n",
    "except Exception as e:\n",
    "    print(\"Hata oluştu!\\n {0}\".format(e))    "
   ]
  },
  {
   "cell_type": "code",
   "execution_count": null,
   "metadata": {},
   "outputs": [],
   "source": []
  }
 ],
 "metadata": {
  "kernelspec": {
   "display_name": "Python 3",
   "language": "python",
   "name": "python3"
  },
  "language_info": {
   "codemirror_mode": {
    "name": "ipython",
    "version": 3
   },
   "file_extension": ".py",
   "mimetype": "text/x-python",
   "name": "python",
   "nbconvert_exporter": "python",
   "pygments_lexer": "ipython3",
   "version": "3.7.6"
  }
 },
 "nbformat": 4,
 "nbformat_minor": 4
}
